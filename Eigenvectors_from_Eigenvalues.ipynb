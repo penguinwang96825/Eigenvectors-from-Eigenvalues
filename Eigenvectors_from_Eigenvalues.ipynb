{
  "nbformat": 4,
  "nbformat_minor": 0,
  "metadata": {
    "colab": {
      "name": "Eigenvectors_from_Eigenvalues.ipynb",
      "provenance": [],
      "collapsed_sections": [],
      "authorship_tag": "ABX9TyPMGvsevPJ2SU//E+M2CsJG",
      "include_colab_link": true
    },
    "kernelspec": {
      "name": "python3",
      "display_name": "Python 3"
    }
  },
  "cells": [
    {
      "cell_type": "markdown",
      "metadata": {
        "id": "view-in-github",
        "colab_type": "text"
      },
      "source": [
        "<a href=\"https://colab.research.google.com/github/penguinwang96825/Eigenvectors_from_Eigenvalues/blob/master/Eigenvectors_from_Eigenvalues.ipynb\" target=\"_parent\"><img src=\"https://colab.research.google.com/assets/colab-badge.svg\" alt=\"Open In Colab\"/></a>"
      ]
    },
    {
      "cell_type": "code",
      "metadata": {
        "id": "DQho5obw8B_s",
        "colab_type": "code",
        "colab": {}
      },
      "source": [
        "import time\n",
        "import numpy as np\n",
        "import pandas as pd\n",
        "from scipy.linalg import eigh"
      ],
      "execution_count": 0,
      "outputs": []
    },
    {
      "cell_type": "code",
      "metadata": {
        "id": "I8nRbKDuAHM6",
        "colab_type": "code",
        "outputId": "c1b80ed7-eb10-42a3-b86a-c0e0bde72143",
        "colab": {
          "base_uri": "https://localhost:8080/",
          "height": 158
        }
      },
      "source": [
        "%%time\n",
        "A = np.array([[1, 1, -1], [1, 3, 1], [-1, 1, 3]])\n",
        "eigenvalues_A, eigenvectors_A = np.linalg.eig(A)\n",
        "eigenvalues_A = [round(float(x), 4) for x in eigenvalues_A]\n",
        "print(\"Eigenvalues of matrix A: \\n{}\".format(eigenvalues_A))\n",
        "print(\"Eigenvalues of matrix A: \\n{}\".format(eigenvectors_A))"
      ],
      "execution_count": 2,
      "outputs": [
        {
          "output_type": "stream",
          "text": [
            "Eigenvalues of matrix A: \n",
            "[-0.0, 3.0, 4.0]\n",
            "Eigenvalues of matrix A: \n",
            "[[-8.16496581e-01  5.77350269e-01 -3.14018492e-16]\n",
            " [ 4.08248290e-01  5.77350269e-01  7.07106781e-01]\n",
            " [-4.08248290e-01 -5.77350269e-01  7.07106781e-01]]\n",
            "CPU times: user 1.57 ms, sys: 109 µs, total: 1.68 ms\n",
            "Wall time: 15.9 ms\n"
          ],
          "name": "stdout"
        }
      ]
    },
    {
      "cell_type": "code",
      "metadata": {
        "id": "7CD-vkE88IRE",
        "colab_type": "code",
        "colab": {}
      },
      "source": [
        "def lanczos_method(A, m=100):\n",
        "    \"\"\"\n",
        "    Reference from https://en.wikipedia.org/wiki/Lanczos_algorithm\n",
        "\n",
        "    Parameters:\n",
        "      A: n*n Hermitian matrix (array-like)\n",
        "      v: initial n*1 vector with Euclidean norm 1 (array-like)\n",
        "      m: number of iterations (int)\n",
        "    Return:\n",
        "      T: m*m tridiagonal real symmetric matrix (array-like)\n",
        "      V: n*m matrix with orthonormal columns (array-like)\n",
        "    \"\"\"\n",
        "    # Initialize parameters\n",
        "    v = np.random.rand(A.shape[1])\n",
        "    n = len(v)\n",
        "    if m >= n: \n",
        "      m = n\n",
        "    V = np.zeros((m, n))\n",
        "    T = np.zeros((m, m))\n",
        "    vo = np.zeros(n)\n",
        "    beta = 0\n",
        "\n",
        "    for j in range(m - 1):\n",
        "        w = np.dot(A, v)\n",
        "        alfa = np.dot(w, v)\n",
        "        w = w - alfa*v - beta*vo\n",
        "        beta = np.sqrt(np.dot(w, w)) \n",
        "        vo = v\n",
        "        v = w / beta \n",
        "        T[j, j] = alfa \n",
        "        T[j, j + 1] = beta\n",
        "        T[j + 1, j] = beta\n",
        "        V[j, :] = v\n",
        "    w = np.dot(A, v)\n",
        "    alfa = np.dot(w, v)\n",
        "    w = w - alfa*v - beta*vo\n",
        "    T[m - 1, m - 1] = np.dot(w, v)\n",
        "    V[m - 1] = w / np.sqrt(np.dot(w, w)) \n",
        "\n",
        "    eigenvalues_T, eigenvectors_T = np.linalg.eig(T)\n",
        "    eig_vec = V @ A\n",
        "\n",
        "    eig_val = []\n",
        "    for i in range(n):\n",
        "        col = eig_vec[:, i]\n",
        "        val = (np.dot(col.conj().T, np.dot(A, col))) / (np.dot(col.conj().T, col))\n",
        "        eig_val.append(val)\n",
        "\n",
        "    return eig_val, eig_vec"
      ],
      "execution_count": 0,
      "outputs": []
    },
    {
      "cell_type": "code",
      "metadata": {
        "id": "9kLeESXgOjTo",
        "colab_type": "code",
        "outputId": "cb6849d2-7c83-4ae0-ed0e-104df2027ab6",
        "colab": {
          "base_uri": "https://localhost:8080/",
          "height": 158
        }
      },
      "source": [
        "%%time\n",
        "A = np.array([[1, 1, -1], [1, 3, 1], [-1, 1, 3]])\n",
        "eig_val, eig_vec = lanczos_method(A)\n",
        "print(\"Eigenvalues of matrix A: \\n{}\".format(eig_val))\n",
        "print(\"Eigenvectors of matrix A: \\n{}\".format(eig_vec))"
      ],
      "execution_count": 4,
      "outputs": [
        {
          "output_type": "stream",
          "text": [
            "Eigenvalues of matrix A: \n",
            "[3.91697886058084, 3.389022714571619, 2.683574932513419]\n",
            "Eigenvectors of matrix A: \n",
            "[[ 0.10983197  1.72135761  1.50169366]\n",
            " [-0.40192113 -0.75604062  0.04780164]\n",
            " [-0.68163761 -2.48290775 -1.11963253]]\n",
            "CPU times: user 1.48 ms, sys: 92 µs, total: 1.58 ms\n",
            "Wall time: 1.29 ms\n"
          ],
          "name": "stdout"
        }
      ]
    },
    {
      "cell_type": "code",
      "metadata": {
        "id": "fyNSgogyScMx",
        "colab_type": "code",
        "outputId": "a2527b3d-9e0e-4026-9d1d-61466efe0afe",
        "colab": {
          "base_uri": "https://localhost:8080/",
          "height": 158
        }
      },
      "source": [
        "%%time\n",
        "A = np.array([[1, 1, -1], [1, 3, 1], [-1, 1, 3]])\n",
        "eig_val, eig_vec = eigh(A)\n",
        "eig_val = eig_val.tolist()\n",
        "eig_val = [round(x, 4) for x in eig_val]\n",
        "print(\"Eigenvalues of matrix A: \\n{}\".format(eig_val))\n",
        "print(\"Eigenvectors of matrix A: \\n{}\".format(eig_vec))"
      ],
      "execution_count": 5,
      "outputs": [
        {
          "output_type": "stream",
          "text": [
            "Eigenvalues of matrix A: \n",
            "[0.0, 3.0, 4.0]\n",
            "Eigenvectors of matrix A: \n",
            "[[ 0.81649658 -0.57735027  0.        ]\n",
            " [-0.40824829 -0.57735027  0.70710678]\n",
            " [ 0.40824829  0.57735027  0.70710678]]\n",
            "CPU times: user 2.12 ms, sys: 58 µs, total: 2.17 ms\n",
            "Wall time: 1.83 ms\n"
          ],
          "name": "stdout"
        }
      ]
    },
    {
      "cell_type": "code",
      "metadata": {
        "id": "rRpZjggvAPYa",
        "colab_type": "code",
        "colab": {}
      },
      "source": [
        "def power_method(A, m=100):\n",
        "    \"\"\"\n",
        "    Prameters:\n",
        "        A: n*n matrix (array-like)\n",
        "        m: iterations (int)\n",
        "    Return:\n",
        "        v_old: Eigenvector (array-like)\n",
        "    \"\"\"\n",
        "    v_old = np.random.rand(A.shape[1])\n",
        "\n",
        "    for _ in range(m):\n",
        "        # Calculate the matrix-by-vector product A*v_old.\n",
        "        v_new = np.dot(A, v_old)\n",
        "\n",
        "        # Calculate the norm.\n",
        "        v_new_norm = np.linalg.norm(v_new)\n",
        "\n",
        "        # Re-normalize the vector.\n",
        "        v_old = v_new / v_new_norm\n",
        "\n",
        "    # Rayleigh quotient\n",
        "    eig_val = (np.dot(v_old.conj().T, np.dot(A, v_old))) / (np.dot(v_old.conj().T, v_old))\n",
        "\n",
        "    return eig_val, v_old"
      ],
      "execution_count": 0,
      "outputs": []
    },
    {
      "cell_type": "code",
      "metadata": {
        "id": "zvKFReFLAQGJ",
        "colab_type": "code",
        "outputId": "346d75b8-b241-430c-ff36-f9b1fb383859",
        "colab": {
          "base_uri": "https://localhost:8080/",
          "height": 122
        }
      },
      "source": [
        "%%time\n",
        "eig_val, eig_vec = power_method(A)\n",
        "eig_vec = [round(x, 4) for x in eig_vec.tolist()]\n",
        "print(\"Eigenvalues of matrix A: \\n{}\".format(eig_val))\n",
        "print(\"Eigenvectors of matrix A: \\n{}\".format(eig_vec))"
      ],
      "execution_count": 7,
      "outputs": [
        {
          "output_type": "stream",
          "text": [
            "Eigenvalues of matrix A: \n",
            "4.0\n",
            "Eigenvectors of matrix A: \n",
            "[0.0, 0.7071, 0.7071]\n",
            "CPU times: user 4.05 ms, sys: 2.01 ms, total: 6.06 ms\n",
            "Wall time: 6.66 ms\n"
          ],
          "name": "stdout"
        }
      ]
    },
    {
      "cell_type": "code",
      "metadata": {
        "id": "bdJSdFEMMfGK",
        "colab_type": "code",
        "colab": {}
      },
      "source": [
        "def eigenvectors_from_eigenvalues(A, eig_val_A=None):\n",
        "    \"\"\"\n",
        "    Implementation of Eigenvector-eigenvalue Identity Theorem\n",
        "\n",
        "    Parameters:\n",
        "        A: (n, n) Hermitian matrix (array-like)\n",
        "        eig_val_A: (n, ) vector (float ndarray)\n",
        "    Return: \n",
        "        eig_vec_A: Eigenvectors of matrix A\n",
        "    \"\"\"\n",
        "    n = A.shape[0]\n",
        "    # Produce eig_val_A by scipy.linalg.eigh() function\n",
        "    if eig_val_A is None:\n",
        "        eig_val_A, _ = eigh(A)\n",
        "    eig_vec_A = np.zeros((n, n))\n",
        "    start = time.time()\n",
        "    for k in range(n):\n",
        "        # Remove the k-th row\n",
        "        M = np.delete(A, k, axis=0)\n",
        "        # Remove the k-th column\n",
        "        M = np.delete(M, k, axis=1)\n",
        "        # Produce eig_val_M by scipy.linalg.eigh() function\n",
        "        eig_val_M, _ = eigh(M)\n",
        "\n",
        "        nominator = [np.prod(eig_val_A[i] - eig_val_M) for i in range(n)]\n",
        "        denominator = [np.prod(np.delete(eig_val_A[i] - eig_val_A, i)) for i in range(n)]\n",
        "\n",
        "        eig_vec_A[k, :] = np.array(nominator) / np.array(denominator)\n",
        "    elapse_time = time.time() - start\n",
        "    print(\"It takes {:.8f}s to compute eigenvectors using Eigenvector-eigenvalue Identity.\".format(elapse_time))\n",
        "    return eig_vec_A"
      ],
      "execution_count": 0,
      "outputs": []
    },
    {
      "cell_type": "code",
      "metadata": {
        "id": "3sE7Sn3gcUy_",
        "colab_type": "code",
        "outputId": "6437befe-7264-4414-88e0-671aa2695b6b",
        "colab": {
          "base_uri": "https://localhost:8080/",
          "height": 175
        }
      },
      "source": [
        "A = np.array([[1, 1, -1], [1, 3, 1], [-1, 1, 3]])\n",
        "eig_vec_A = eigenvectors_from_eigenvalues(A)\n",
        "print(eig_vec_A)\n",
        "\n",
        "start = time.time()\n",
        "eig_val_A, eig_vec_A = eigh(A); eig_vec_A\n",
        "print(\"\\nIt takes {:.8f}s to compute eigenvectors using scipy.linalg.eigh() function.\".format(time.time()-start))\n",
        "print(eig_vec_A)"
      ],
      "execution_count": 9,
      "outputs": [
        {
          "output_type": "stream",
          "text": [
            "It takes 0.00070190s to compute eigenvectors using Eigenvector-eigenvalue Identity.\n",
            "[[0.66666667 0.33333333 0.        ]\n",
            " [0.16666667 0.33333333 0.5       ]\n",
            " [0.16666667 0.33333333 0.5       ]]\n",
            "\n",
            "It takes 0.00016832s to compute eigenvectors using scipy.linalg.eigh() function.\n",
            "[[ 0.81649658 -0.57735027  0.        ]\n",
            " [-0.40824829 -0.57735027  0.70710678]\n",
            " [ 0.40824829  0.57735027  0.70710678]]\n"
          ],
          "name": "stdout"
        }
      ]
    },
    {
      "cell_type": "code",
      "metadata": {
        "id": "5AXIlKDfcZZh",
        "colab_type": "code",
        "colab": {}
      },
      "source": [
        ""
      ],
      "execution_count": 0,
      "outputs": []
    }
  ]
}