{
  "nbformat": 4,
  "nbformat_minor": 0,
  "metadata": {
    "colab": {
      "name": "Eigenvectors_from_Eigenvalues.ipynb",
      "provenance": [],
      "authorship_tag": "ABX9TyO+4phDVUCNQXjTpuTZ50GQ",
      "include_colab_link": true
    },
    "kernelspec": {
      "name": "python3",
      "display_name": "Python 3"
    }
  },
  "cells": [
    {
      "cell_type": "markdown",
      "metadata": {
        "id": "view-in-github",
        "colab_type": "text"
      },
      "source": [
        "<a href=\"https://colab.research.google.com/github/penguinwang96825/Eigenvectors_from_Eigenvalues/blob/master/Eigenvectors_from_Eigenvalues.ipynb\" target=\"_parent\"><img src=\"https://colab.research.google.com/assets/colab-badge.svg\" alt=\"Open In Colab\"/></a>"
      ]
    },
    {
      "cell_type": "code",
      "metadata": {
        "id": "DQho5obw8B_s",
        "colab_type": "code",
        "colab": {}
      },
      "source": [
        "import numpy as np\n",
        "import pandas as pd"
      ],
      "execution_count": 0,
      "outputs": []
    },
    {
      "cell_type": "code",
      "metadata": {
        "id": "7CD-vkE88IRE",
        "colab_type": "code",
        "colab": {}
      },
      "source": [
        "def lanczos_method(A, m=100):\n",
        "    \"\"\"\n",
        "    Reference from https://en.wikipedia.org/wiki/Lanczos_algorithm\n",
        "\n",
        "    Parameters:\n",
        "      A: n*n Hermitian matrix (array-like)\n",
        "      v: initial n*1 vector with Euclidean norm 1 (array-like)\n",
        "      m: number of iterations (int)\n",
        "    Return:\n",
        "      T: m*m tridiagonal real symmetric matrix (array-like)\n",
        "      V: n*m matrix with orthonormal columns (array-like)\n",
        "    \"\"\"\n",
        "    # Initialize parameters\n",
        "    v = np.random.rand(A.shape[1])\n",
        "    n = len(v)\n",
        "    if m >= n: \n",
        "      m = n\n",
        "    V = np.zeros((m, n))\n",
        "    T = np.zeros((m, m))\n",
        "    vo = np.zeros(n)\n",
        "    beta = 0\n",
        "\n",
        "    for j in range(m - 1):\n",
        "        w = np.dot(A, v)\n",
        "        alfa = np.dot(w, v)\n",
        "        w = w - alfa*v - beta*vo\n",
        "        beta = np.sqrt(np.dot(w, w)) \n",
        "        vo = v\n",
        "        v = w / beta \n",
        "        T[j, j] = alfa \n",
        "        T[j, j + 1] = beta\n",
        "        T[j + 1, j] = beta\n",
        "        V[j, :] = v\n",
        "    w = np.dot(A, v)\n",
        "    alfa = np.dot(w, v)\n",
        "    w = w - alfa*v - beta*vo\n",
        "    T[m - 1, m - 1] = np.dot(w, v)\n",
        "    V[m - 1] = w / np.sqrt(np.dot(w, w)) \n",
        "\n",
        "    eigenvalues_T, eigenvectors_T = np.linalg.eig(T)\n",
        "    eig_vec = V @ A\n",
        "\n",
        "    eig_val = []\n",
        "    for i in range(n):\n",
        "        val = (np.dot(eig_vec[:, i].conj().T, np.dot(A, eig_vec[:, i]))) / (np.dot(eig_vec[:, i].conj().T, eig_vec[:, i]))\n",
        "        eig_val.append(val)\n",
        "\n",
        "    return eig_val, eig_vec"
      ],
      "execution_count": 0,
      "outputs": []
    },
    {
      "cell_type": "code",
      "metadata": {
        "id": "9kLeESXgOjTo",
        "colab_type": "code",
        "colab": {
          "base_uri": "https://localhost:8080/",
          "height": 85
        },
        "outputId": "181ad442-a3e4-497a-b31e-67cf54b83928"
      },
      "source": [
        "A = np.array([[1, 1, -1], [1, 3, 1], [-1, 1, 3]])\n",
        "eig_val, eig_vec = lanczos_method(A)\n",
        "eig_val, eig_vec"
      ],
      "execution_count": 60,
      "outputs": [
        {
          "output_type": "execute_result",
          "data": {
            "text/plain": [
              "([3.0407265015744187, 2.999393721922424, 2.9993604942844585],\n",
              " array([[-0.03569979, -2.71282006, -2.64142047],\n",
              "        [-0.02164831, -2.83898718, -2.79569056],\n",
              "        [ 0.04061666,  2.76828016,  2.68704685]]))"
            ]
          },
          "metadata": {
            "tags": []
          },
          "execution_count": 60
        }
      ]
    },
    {
      "cell_type": "code",
      "metadata": {
        "id": "I8nRbKDuAHM6",
        "colab_type": "code",
        "colab": {
          "base_uri": "https://localhost:8080/",
          "height": 34
        },
        "outputId": "bcb697ee-ebd1-4fbc-ba82-19c72a10a086"
      },
      "source": [
        "A = np.array([[1, 1, -1], [1, 3, 1], [-1, 1, 3]])\n",
        "\n",
        "eigenvalues_A, _ = np.linalg.eig(A)\n",
        "\n",
        "eigenvalues_A = [round(float(x), 4) for x in eigenvalues_A]\n",
        "\n",
        "print(\"Eigenvalues of matrix A: {}\".format(eigenvalues_A))"
      ],
      "execution_count": 57,
      "outputs": [
        {
          "output_type": "stream",
          "text": [
            "Eigenvalues of matrix A: [-0.0, 3.0, 4.0]\n"
          ],
          "name": "stdout"
        }
      ]
    },
    {
      "cell_type": "code",
      "metadata": {
        "id": "rRpZjggvAPYa",
        "colab_type": "code",
        "colab": {}
      },
      "source": [
        "def power_method(A, m=100):\n",
        "    \"\"\"\n",
        "    Prameters:\n",
        "        A: n*n matrix (array-like)\n",
        "        m: iterations (int)\n",
        "    Return:\n",
        "        v_old: Eigenvector (array-like)\n",
        "    \"\"\"\n",
        "    v_old = np.random.rand(A.shape[1])\n",
        "\n",
        "    for _ in range(m):\n",
        "        # Calculate the matrix-by-vector product A*v_old.\n",
        "        v_new = np.dot(A, v_old)\n",
        "\n",
        "        # Calculate the norm.\n",
        "        v_new_norm = np.linalg.norm(v_new)\n",
        "\n",
        "        # Re-normalize the vector.\n",
        "        v_old = v_new / v_new_norm\n",
        "\n",
        "    # Rayleigh quotient\n",
        "    eig_val = (np.dot(v_old.conj().T, np.dot(A, v_old))) / (np.dot(v_old.conj().T, v_old))\n",
        "\n",
        "    return eig_val, v_old"
      ],
      "execution_count": 0,
      "outputs": []
    },
    {
      "cell_type": "code",
      "metadata": {
        "id": "zvKFReFLAQGJ",
        "colab_type": "code",
        "colab": {}
      },
      "source": [
        "eig_val, eig_vec = power_method(A)\n",
        "eig_vec = [round(x, 4) for x in eig_vec.tolist()]"
      ],
      "execution_count": 0,
      "outputs": []
    },
    {
      "cell_type": "code",
      "metadata": {
        "id": "FwrVAbtiEHJS",
        "colab_type": "code",
        "colab": {
          "base_uri": "https://localhost:8080/",
          "height": 34
        },
        "outputId": "3cd38ca8-166f-413c-87fb-257f8f22027d"
      },
      "source": [
        "eig_val, eig_vec"
      ],
      "execution_count": 63,
      "outputs": [
        {
          "output_type": "execute_result",
          "data": {
            "text/plain": [
              "(4.0, [0.0, 0.7071, 0.7071])"
            ]
          },
          "metadata": {
            "tags": []
          },
          "execution_count": 63
        }
      ]
    },
    {
      "cell_type": "code",
      "metadata": {
        "id": "bdJSdFEMMfGK",
        "colab_type": "code",
        "colab": {}
      },
      "source": [
        ""
      ],
      "execution_count": 0,
      "outputs": []
    }
  ]
}