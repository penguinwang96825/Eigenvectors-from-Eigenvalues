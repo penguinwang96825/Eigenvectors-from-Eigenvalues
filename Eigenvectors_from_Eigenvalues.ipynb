{
  "nbformat": 4,
  "nbformat_minor": 0,
  "metadata": {
    "colab": {
      "name": "Eigenvectors_from_Eigenvalues.ipynb",
      "provenance": [],
      "authorship_tag": "ABX9TyOoCKOEYXQ34h8HSJbs23so",
      "include_colab_link": true
    },
    "kernelspec": {
      "name": "python3",
      "display_name": "Python 3"
    }
  },
  "cells": [
    {
      "cell_type": "markdown",
      "metadata": {
        "id": "view-in-github",
        "colab_type": "text"
      },
      "source": [
        "<a href=\"https://colab.research.google.com/github/penguinwang96825/Eigenvectors_from_Eigenvalues/blob/master/Eigenvectors_from_Eigenvalues.ipynb\" target=\"_parent\"><img src=\"https://colab.research.google.com/assets/colab-badge.svg\" alt=\"Open In Colab\"/></a>"
      ]
    },
    {
      "cell_type": "code",
      "metadata": {
        "id": "DQho5obw8B_s",
        "colab_type": "code",
        "colab": {}
      },
      "source": [
        "import time\n",
        "import numpy as np\n",
        "import pandas as pd\n",
        "from scipy.linalg import eigh"
      ],
      "execution_count": 0,
      "outputs": []
    },
    {
      "cell_type": "code",
      "metadata": {
        "id": "I8nRbKDuAHM6",
        "colab_type": "code",
        "colab": {
          "base_uri": "https://localhost:8080/",
          "height": 153
        },
        "outputId": "585148ab-55e2-498c-f38c-2e4467c98e8e"
      },
      "source": [
        "%%time\n",
        "A = np.array([[1, 1, -1], [1, 3, 1], [-1, 1, 3]])\n",
        "eigenvalues_A, eigenvectors_A = np.linalg.eig(A)\n",
        "eigenvalues_A = [round(float(x), 4) for x in eigenvalues_A]\n",
        "print(\"Eigenvalues of matrix A: \\n{}\".format(eigenvalues_A))\n",
        "print(\"Eigenvalues of matrix A: \\n{}\".format(eigenvectors_A))"
      ],
      "execution_count": 2,
      "outputs": [
        {
          "output_type": "stream",
          "text": [
            "Eigenvalues of matrix A: \n",
            "[-0.0, 3.0, 4.0]\n",
            "Eigenvalues of matrix A: \n",
            "[[-8.16496581e-01  5.77350269e-01 -3.14018492e-16]\n",
            " [ 4.08248290e-01  5.77350269e-01  7.07106781e-01]\n",
            " [-4.08248290e-01 -5.77350269e-01  7.07106781e-01]]\n",
            "CPU times: user 367 µs, sys: 886 µs, total: 1.25 ms\n",
            "Wall time: 1.32 ms\n"
          ],
          "name": "stdout"
        }
      ]
    },
    {
      "cell_type": "code",
      "metadata": {
        "id": "7CD-vkE88IRE",
        "colab_type": "code",
        "colab": {}
      },
      "source": [
        "def lanczos_method(A, m=100):\n",
        "    \"\"\"\n",
        "    Reference from https://en.wikipedia.org/wiki/Lanczos_algorithm\n",
        "\n",
        "    Parameters:\n",
        "      A: n*n Hermitian matrix (array-like)\n",
        "      v: initial n*1 vector with Euclidean norm 1 (array-like)\n",
        "      m: number of iterations (int)\n",
        "    Return:\n",
        "      T: m*m tridiagonal real symmetric matrix (array-like)\n",
        "      V: n*m matrix with orthonormal columns (array-like)\n",
        "    \"\"\"\n",
        "    # Initialize parameters\n",
        "    v = np.random.rand(A.shape[1])\n",
        "    n = len(v)\n",
        "    if m >= n: \n",
        "      m = n\n",
        "    V = np.zeros((m, n))\n",
        "    T = np.zeros((m, m))\n",
        "    vo = np.zeros(n)\n",
        "    beta = 0\n",
        "\n",
        "    for j in range(m - 1):\n",
        "        w = np.dot(A, v)\n",
        "        alfa = np.dot(w, v)\n",
        "        w = w - alfa*v - beta*vo\n",
        "        beta = np.sqrt(np.dot(w, w)) \n",
        "        vo = v\n",
        "        v = w / beta \n",
        "        T[j, j] = alfa \n",
        "        T[j, j + 1] = beta\n",
        "        T[j + 1, j] = beta\n",
        "        V[j, :] = v\n",
        "    w = np.dot(A, v)\n",
        "    alfa = np.dot(w, v)\n",
        "    w = w - alfa*v - beta*vo\n",
        "    T[m - 1, m - 1] = np.dot(w, v)\n",
        "    V[m - 1] = w / np.sqrt(np.dot(w, w)) \n",
        "\n",
        "    eigenvalues_T, eigenvectors_T = np.linalg.eig(T)\n",
        "    eig_vec = V @ A\n",
        "\n",
        "    eig_val = []\n",
        "    for i in range(n):\n",
        "        val = (np.dot(eig_vec[:, i].conj().T, np.dot(A, eig_vec[:, i]))) / (np.dot(eig_vec[:, i].conj().T, eig_vec[:, i]))\n",
        "        eig_val.append(val)\n",
        "\n",
        "    return eig_val, eig_vec"
      ],
      "execution_count": 0,
      "outputs": []
    },
    {
      "cell_type": "code",
      "metadata": {
        "id": "9kLeESXgOjTo",
        "colab_type": "code",
        "colab": {
          "base_uri": "https://localhost:8080/",
          "height": 153
        },
        "outputId": "c2f3d2c2-1277-458e-cbaa-de642766962e"
      },
      "source": [
        "%%time\n",
        "A = np.array([[1, 1, -1], [1, 3, 1], [-1, 1, 3]])\n",
        "eig_val, eig_vec = lanczos_method(A)\n",
        "print(\"Eigenvalues of matrix A: \\n{}\".format(eig_val))\n",
        "print(\"Eigenvectors of matrix A: \\n{}\".format(eig_vec))"
      ],
      "execution_count": 4,
      "outputs": [
        {
          "output_type": "stream",
          "text": [
            "Eigenvalues of matrix A: \n",
            "[0.730941255645759, 2.56483114861561, 3.0094993260146365]\n",
            "Eigenvectors of matrix A: \n",
            "[[ 1.1153669   2.42871868  0.19798489]\n",
            " [-0.8453261   1.61596474  3.30661693]\n",
            " [ 0.01815338 -0.14486253 -0.18116928]]\n",
            "CPU times: user 1.85 ms, sys: 0 ns, total: 1.85 ms\n",
            "Wall time: 1.44 ms\n"
          ],
          "name": "stdout"
        }
      ]
    },
    {
      "cell_type": "code",
      "metadata": {
        "id": "fyNSgogyScMx",
        "colab_type": "code",
        "colab": {
          "base_uri": "https://localhost:8080/",
          "height": 153
        },
        "outputId": "436e16eb-7a66-4f87-aea9-756f4d384ba8"
      },
      "source": [
        "%%time\n",
        "A = np.array([[1, 1, -1], [1, 3, 1], [-1, 1, 3]])\n",
        "eig_val, eig_vec = eigh(A)\n",
        "eig_val = eig_val.tolist()\n",
        "eig_val = [round(x, 4) for x in eig_val]\n",
        "print(\"Eigenvalues of matrix A: \\n{}\".format(eig_val))\n",
        "print(\"Eigenvectors of matrix A: \\n{}\".format(eig_vec))"
      ],
      "execution_count": 5,
      "outputs": [
        {
          "output_type": "stream",
          "text": [
            "Eigenvalues of matrix A: \n",
            "[0.0, 3.0, 4.0]\n",
            "Eigenvectors of matrix A: \n",
            "[[ 0.81649658 -0.57735027  0.        ]\n",
            " [-0.40824829 -0.57735027  0.70710678]\n",
            " [ 0.40824829  0.57735027  0.70710678]]\n",
            "CPU times: user 772 µs, sys: 0 ns, total: 772 µs\n",
            "Wall time: 911 µs\n"
          ],
          "name": "stdout"
        }
      ]
    },
    {
      "cell_type": "code",
      "metadata": {
        "id": "rRpZjggvAPYa",
        "colab_type": "code",
        "colab": {}
      },
      "source": [
        "def power_method(A, m=100):\n",
        "    \"\"\"\n",
        "    Prameters:\n",
        "        A: n*n matrix (array-like)\n",
        "        m: iterations (int)\n",
        "    Return:\n",
        "        v_old: Eigenvector (array-like)\n",
        "    \"\"\"\n",
        "    v_old = np.random.rand(A.shape[1])\n",
        "\n",
        "    for _ in range(m):\n",
        "        # Calculate the matrix-by-vector product A*v_old.\n",
        "        v_new = np.dot(A, v_old)\n",
        "\n",
        "        # Calculate the norm.\n",
        "        v_new_norm = np.linalg.norm(v_new)\n",
        "\n",
        "        # Re-normalize the vector.\n",
        "        v_old = v_new / v_new_norm\n",
        "\n",
        "    # Rayleigh quotient\n",
        "    eig_val = (np.dot(v_old.conj().T, np.dot(A, v_old))) / (np.dot(v_old.conj().T, v_old))\n",
        "\n",
        "    return eig_val, v_old"
      ],
      "execution_count": 0,
      "outputs": []
    },
    {
      "cell_type": "code",
      "metadata": {
        "id": "zvKFReFLAQGJ",
        "colab_type": "code",
        "colab": {
          "base_uri": "https://localhost:8080/",
          "height": 119
        },
        "outputId": "17cf9358-45d1-4c84-ba14-f245c8d1d577"
      },
      "source": [
        "%%time\n",
        "eig_val, eig_vec = power_method(A)\n",
        "eig_vec = [round(x, 4) for x in eig_vec.tolist()]\n",
        "print(\"Eigenvalues of matrix A: \\n{}\".format(eig_val))\n",
        "print(\"Eigenvectors of matrix A: \\n{}\".format(eig_vec))"
      ],
      "execution_count": 7,
      "outputs": [
        {
          "output_type": "stream",
          "text": [
            "Eigenvalues of matrix A: \n",
            "3.999999999999999\n",
            "Eigenvectors of matrix A: \n",
            "[0.0, 0.7071, 0.7071]\n",
            "CPU times: user 712 µs, sys: 1.94 ms, total: 2.65 ms\n",
            "Wall time: 2.83 ms\n"
          ],
          "name": "stdout"
        }
      ]
    },
    {
      "cell_type": "code",
      "metadata": {
        "id": "bdJSdFEMMfGK",
        "colab_type": "code",
        "colab": {}
      },
      "source": [
        ""
      ],
      "execution_count": 0,
      "outputs": []
    }
  ]
}