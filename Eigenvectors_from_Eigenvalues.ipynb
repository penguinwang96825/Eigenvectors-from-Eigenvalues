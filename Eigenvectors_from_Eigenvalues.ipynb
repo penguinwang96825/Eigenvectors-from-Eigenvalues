{
  "nbformat": 4,
  "nbformat_minor": 0,
  "metadata": {
    "colab": {
      "name": "Eigenvectors_from_Eigenvalues.ipynb",
      "provenance": [],
      "collapsed_sections": [],
      "authorship_tag": "ABX9TyNp91unPBINNG5we0SslrSH",
      "include_colab_link": true
    },
    "kernelspec": {
      "name": "python3",
      "display_name": "Python 3"
    }
  },
  "cells": [
    {
      "cell_type": "markdown",
      "metadata": {
        "id": "view-in-github",
        "colab_type": "text"
      },
      "source": [
        "<a href=\"https://colab.research.google.com/github/penguinwang96825/Eigenvectors_from_Eigenvalues/blob/master/Eigenvectors_from_Eigenvalues.ipynb\" target=\"_parent\"><img src=\"https://colab.research.google.com/assets/colab-badge.svg\" alt=\"Open In Colab\"/></a>"
      ]
    },
    {
      "cell_type": "code",
      "metadata": {
        "id": "DQho5obw8B_s",
        "colab_type": "code",
        "colab": {}
      },
      "source": [
        "import time\n",
        "import numpy as np\n",
        "import pandas as pd\n",
        "from scipy.linalg import eigh"
      ],
      "execution_count": 0,
      "outputs": []
    },
    {
      "cell_type": "code",
      "metadata": {
        "id": "I8nRbKDuAHM6",
        "colab_type": "code",
        "colab": {
          "base_uri": "https://localhost:8080/",
          "height": 153
        },
        "outputId": "51369f7f-b19f-4db6-9301-bfc5fe0b2002"
      },
      "source": [
        "%%time\n",
        "A = np.array([[1, 1, -1], [1, 3, 1], [-1, 1, 3]])\n",
        "eigenvalues_A, eigenvectors_A = np.linalg.eig(A)\n",
        "eigenvalues_A = [round(float(x), 4) for x in eigenvalues_A]\n",
        "print(\"Eigenvalues of matrix A: \\n{}\".format(eigenvalues_A))\n",
        "print(\"Eigenvalues of matrix A: \\n{}\".format(eigenvectors_A))"
      ],
      "execution_count": 2,
      "outputs": [
        {
          "output_type": "stream",
          "text": [
            "Eigenvalues of matrix A: \n",
            "[-0.0, 3.0, 4.0]\n",
            "Eigenvalues of matrix A: \n",
            "[[-8.16496581e-01  5.77350269e-01 -3.14018492e-16]\n",
            " [ 4.08248290e-01  5.77350269e-01  7.07106781e-01]\n",
            " [-4.08248290e-01 -5.77350269e-01  7.07106781e-01]]\n",
            "CPU times: user 1.24 ms, sys: 54 µs, total: 1.29 ms\n",
            "Wall time: 2.2 ms\n"
          ],
          "name": "stdout"
        }
      ]
    },
    {
      "cell_type": "code",
      "metadata": {
        "id": "7CD-vkE88IRE",
        "colab_type": "code",
        "colab": {}
      },
      "source": [
        "def lanczos_method(A, m=100):\n",
        "    \"\"\"\n",
        "    Reference from https://en.wikipedia.org/wiki/Lanczos_algorithm\n",
        "\n",
        "    Parameters:\n",
        "      A: n*n Hermitian matrix (array-like)\n",
        "      v: initial n*1 vector with Euclidean norm 1 (array-like)\n",
        "      m: number of iterations (int)\n",
        "    Return:\n",
        "      T: m*m tridiagonal real symmetric matrix (array-like)\n",
        "      V: n*m matrix with orthonormal columns (array-like)\n",
        "    \"\"\"\n",
        "    # Initialize parameters\n",
        "    v = np.random.rand(A.shape[1])\n",
        "    n = len(v)\n",
        "    if m >= n: \n",
        "      m = n\n",
        "    V = np.zeros((m, n))\n",
        "    T = np.zeros((m, m))\n",
        "    vo = np.zeros(n)\n",
        "    beta = 0\n",
        "\n",
        "    for j in range(m - 1):\n",
        "        w = np.dot(A, v)\n",
        "        alfa = np.dot(w, v)\n",
        "        w = w - alfa*v - beta*vo\n",
        "        beta = np.sqrt(np.dot(w, w)) \n",
        "        vo = v\n",
        "        v = w / beta \n",
        "        T[j, j] = alfa \n",
        "        T[j, j + 1] = beta\n",
        "        T[j + 1, j] = beta\n",
        "        V[j, :] = v\n",
        "    w = np.dot(A, v)\n",
        "    alfa = np.dot(w, v)\n",
        "    w = w - alfa*v - beta*vo\n",
        "    T[m - 1, m - 1] = np.dot(w, v)\n",
        "    V[m - 1] = w / np.sqrt(np.dot(w, w)) \n",
        "\n",
        "    eigenvalues_T, eigenvectors_T = np.linalg.eig(T)\n",
        "    eig_vec = V @ A\n",
        "\n",
        "    eig_val = []\n",
        "    for i in range(n):\n",
        "        col = eig_vec[:, i]\n",
        "        val = (np.dot(col.conj().T, np.dot(A, col))) / (np.dot(col.conj().T, col))\n",
        "        eig_val.append(val)\n",
        "\n",
        "    return eig_val, eig_vec"
      ],
      "execution_count": 0,
      "outputs": []
    },
    {
      "cell_type": "code",
      "metadata": {
        "id": "9kLeESXgOjTo",
        "colab_type": "code",
        "colab": {
          "base_uri": "https://localhost:8080/",
          "height": 153
        },
        "outputId": "dc1ee955-5e6f-4f68-a182-16a443ae99f8"
      },
      "source": [
        "%%time\n",
        "A = np.array([[1, 1, -1], [1, 3, 1], [-1, 1, 3]])\n",
        "eig_val, eig_vec = lanczos_method(A)\n",
        "print(\"Eigenvalues of matrix A: \\n{}\".format(eig_val))\n",
        "print(\"Eigenvectors of matrix A: \\n{}\".format(eig_vec))"
      ],
      "execution_count": 4,
      "outputs": [
        {
          "output_type": "stream",
          "text": [
            "Eigenvalues of matrix A: \n",
            "[3.798031070451819, 3.068506443783594, 2.2453057912800385]\n",
            "Eigenvectors of matrix A: \n",
            "[[ 0.53036712  2.89184897  1.83111473]\n",
            " [-1.03431359 -1.32385321  0.74477397]\n",
            " [-1.31771333 -3.04960249 -0.41417583]]\n",
            "CPU times: user 1.22 ms, sys: 49 µs, total: 1.27 ms\n",
            "Wall time: 977 µs\n"
          ],
          "name": "stdout"
        }
      ]
    },
    {
      "cell_type": "code",
      "metadata": {
        "id": "fyNSgogyScMx",
        "colab_type": "code",
        "colab": {
          "base_uri": "https://localhost:8080/",
          "height": 153
        },
        "outputId": "3b2bf188-2aa4-4e23-b768-477d86fc768c"
      },
      "source": [
        "%%time\n",
        "A = np.array([[1, 1, -1], [1, 3, 1], [-1, 1, 3]])\n",
        "eig_val, eig_vec = eigh(A)\n",
        "eig_val = eig_val.tolist()\n",
        "eig_val = [round(x, 4) for x in eig_val]\n",
        "print(\"Eigenvalues of matrix A: \\n{}\".format(eig_val))\n",
        "print(\"Eigenvectors of matrix A: \\n{}\".format(eig_vec))"
      ],
      "execution_count": 5,
      "outputs": [
        {
          "output_type": "stream",
          "text": [
            "Eigenvalues of matrix A: \n",
            "[0.0, 3.0, 4.0]\n",
            "Eigenvectors of matrix A: \n",
            "[[ 0.81649658 -0.57735027  0.        ]\n",
            " [-0.40824829 -0.57735027  0.70710678]\n",
            " [ 0.40824829  0.57735027  0.70710678]]\n",
            "CPU times: user 1.53 ms, sys: 119 µs, total: 1.65 ms\n",
            "Wall time: 2.24 ms\n"
          ],
          "name": "stdout"
        }
      ]
    },
    {
      "cell_type": "code",
      "metadata": {
        "id": "rRpZjggvAPYa",
        "colab_type": "code",
        "colab": {}
      },
      "source": [
        "def power_method(A, m=100):\n",
        "    \"\"\"\n",
        "    Prameters:\n",
        "        A: n*n matrix (array-like)\n",
        "        m: iterations (int)\n",
        "    Return:\n",
        "        v_old: Eigenvector (array-like)\n",
        "    \"\"\"\n",
        "    v_old = np.random.rand(A.shape[1])\n",
        "\n",
        "    for _ in range(m):\n",
        "        # Calculate the matrix-by-vector product A*v_old.\n",
        "        v_new = np.dot(A, v_old)\n",
        "\n",
        "        # Calculate the norm.\n",
        "        v_new_norm = np.linalg.norm(v_new)\n",
        "\n",
        "        # Re-normalize the vector.\n",
        "        v_old = v_new / v_new_norm\n",
        "\n",
        "    # Rayleigh quotient\n",
        "    eig_val = (np.dot(v_old.conj().T, np.dot(A, v_old))) / (np.dot(v_old.conj().T, v_old))\n",
        "\n",
        "    return eig_val, v_old"
      ],
      "execution_count": 0,
      "outputs": []
    },
    {
      "cell_type": "code",
      "metadata": {
        "id": "zvKFReFLAQGJ",
        "colab_type": "code",
        "colab": {
          "base_uri": "https://localhost:8080/",
          "height": 119
        },
        "outputId": "c4b41aa7-157b-4163-9dca-067b14b421d6"
      },
      "source": [
        "%%time\n",
        "eig_val, eig_vec = power_method(A)\n",
        "eig_vec = [round(x, 4) for x in eig_vec.tolist()]\n",
        "print(\"Eigenvalues of matrix A: \\n{}\".format(eig_val))\n",
        "print(\"Eigenvectors of matrix A: \\n{}\".format(eig_vec))"
      ],
      "execution_count": 7,
      "outputs": [
        {
          "output_type": "stream",
          "text": [
            "Eigenvalues of matrix A: \n",
            "4.0\n",
            "Eigenvectors of matrix A: \n",
            "[0.0, 0.7071, 0.7071]\n",
            "CPU times: user 3.19 ms, sys: 41 µs, total: 3.23 ms\n",
            "Wall time: 3.4 ms\n"
          ],
          "name": "stdout"
        }
      ]
    },
    {
      "cell_type": "code",
      "metadata": {
        "id": "bdJSdFEMMfGK",
        "colab_type": "code",
        "colab": {}
      },
      "source": [
        "def eigenvectors_from_eigenvalues(A):\n",
        "    \"\"\"\n",
        "    Implementation of Eigenvector-eigenvalue Identity Theorem\n",
        "\n",
        "    Parameters:\n",
        "        A: n*n Hermitian matrix (array-like)\n",
        "    Return: \n",
        "        eig_vec_A: Eigenvectors of matrix A\n",
        "    \"\"\"\n",
        "    n = A.shape[0]\n",
        "    # Produce eig_val_A by scipy.linalg.eigh() function\n",
        "    eig_val_A, _ = eigh(A)\n",
        "    eig_vec_A = np.zeros((n, n))\n",
        "    for k in range(n):\n",
        "        # Remove the k-th row\n",
        "        M = np.delete(A, k, axis=0)\n",
        "        # Remove the k-th column\n",
        "        M = np.delete(M, k, axis=1)\n",
        "        # Produce eig_val_M by scipy.linalg.eigh() function\n",
        "        eig_val_M, _ = eigh(M)\n",
        "\n",
        "        nominator = [np.prod(eig_val_A[i] - eig_val_M) for i in range(n)]\n",
        "        denominator = [np.prod(np.delete(eig_val_A[i] - eig_val_A, i)) for i in range(n)]\n",
        "\n",
        "        eig_vec_A[k, :] = np.array(nominator) / np.array(denominator)\n",
        "    return eig_vec_A"
      ],
      "execution_count": 0,
      "outputs": []
    },
    {
      "cell_type": "code",
      "metadata": {
        "id": "3sE7Sn3gcUy_",
        "colab_type": "code",
        "colab": {
          "base_uri": "https://localhost:8080/",
          "height": 68
        },
        "outputId": "737936cb-c23b-4ae6-b834-9216c52b62d6"
      },
      "source": [
        "A = np.array([[1, 1, -1], [1, 3, 1], [-1, 1, 3]])\n",
        "eig_vec_A = eigenvectors_from_eigenvalues(A); eig_vec_A"
      ],
      "execution_count": 9,
      "outputs": [
        {
          "output_type": "execute_result",
          "data": {
            "text/plain": [
              "array([[0.66666667, 0.33333333, 0.        ],\n",
              "       [0.16666667, 0.33333333, 0.5       ],\n",
              "       [0.16666667, 0.33333333, 0.5       ]])"
            ]
          },
          "metadata": {
            "tags": []
          },
          "execution_count": 9
        }
      ]
    },
    {
      "cell_type": "code",
      "metadata": {
        "id": "5AXIlKDfcZZh",
        "colab_type": "code",
        "colab": {}
      },
      "source": [
        ""
      ],
      "execution_count": 0,
      "outputs": []
    }
  ]
}